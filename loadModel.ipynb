{
 "cells": [
  {
   "cell_type": "code",
   "execution_count": 1,
   "metadata": {},
   "outputs": [],
   "source": [
    "# 이미지 불러와서 픽셀 값으로 변경\n",
    "\n",
    "from PIL import Image\n",
    "import numpy as np\n",
    "\n",
    "imgName = ('testImg.jpg')\n",
    "img = Image.open('../테스트 이미지/'+imgName).convert('L')\n",
    "\n",
    "pixels = list(img.getdata())"
   ]
  },
  {
   "cell_type": "code",
   "execution_count": 2,
   "metadata": {},
   "outputs": [],
   "source": [
    "# 픽셀 값 reshape\n",
    "\n",
    "reshapeImgPixels = np.zeros((1, 48*48))\n",
    "\n",
    "for i in range(48*48):\n",
    "    reshapeImgPixels[0, i]=int(pixels[i])\n",
    "    \n",
    "img=reshapeImgPixels\n",
    "img=img/255\n",
    "img=img.reshape((img.shape[0],1,48,48))"
   ]
  },
  {
   "cell_type": "code",
   "execution_count": 5,
   "metadata": {},
   "outputs": [
    {
     "name": "stdout",
     "output_type": "stream",
     "text": [
      "Loaded model from disk\n",
      "The Emotion is Happy\n",
      "[[0.06116684 0.02862529 0.12026835 0.3861508  0.13802275 0.0570741\n",
      "  0.20869184]]\n"
     ]
    }
   ],
   "source": [
    "# 학습된 모델 load 후 예측\n",
    "from keras.models import load_model\n",
    "model = load_model('detectEmotionModel.h5')\n",
    "from keras.models import model_from_json \n",
    "json_file = open(\"model.json\", \"r\")\n",
    "loaded_model_json = json_file.read() \n",
    "json_file.close()\n",
    "loaded_model = model_from_json(loaded_model_json)\n",
    " \n",
    "# model weight load \n",
    "model.load_weights(\"detectEmotion_weights.h5\")\n",
    "print(\"Loaded model from disk\")\n",
    "\n",
    "result=model.predict(img)\n",
    "\n",
    "max = 0\n",
    "maxIdx = 0\n",
    "for i in range(0, 6) :\n",
    "    if result[0][i]>max :\n",
    "        max = result[0][i]\n",
    "        maxIdx = i\n",
    "\n",
    "if maxIdx==0:\n",
    "    emotion='Angry'\n",
    "elif maxIdx==1:\n",
    "    emotion='Disgusted'\n",
    "elif maxIdx==2:\n",
    "    emotion='Fearful'\n",
    "elif maxIdx==3:\n",
    "    emotion='Happy'\n",
    "elif maxIdx==4:\n",
    "    emotion='Sad'\n",
    "elif maxIdx==5:\n",
    "    emotion='Surprised'\n",
    "elif maxIdx==6:\n",
    "    emotion='Neutral'\n",
    "\n",
    "print('The Emotion is', emotion)\n",
    "\n",
    "print(result)"
   ]
  },
  {
   "cell_type": "code",
   "execution_count": null,
   "metadata": {},
   "outputs": [],
   "source": []
  },
  {
   "cell_type": "code",
   "execution_count": null,
   "metadata": {},
   "outputs": [],
   "source": []
  }
 ],
 "metadata": {
  "kernelspec": {
   "display_name": "Python 3",
   "language": "python",
   "name": "python3"
  },
  "language_info": {
   "codemirror_mode": {
    "name": "ipython",
    "version": 3
   },
   "file_extension": ".py",
   "mimetype": "text/x-python",
   "name": "python",
   "nbconvert_exporter": "python",
   "pygments_lexer": "ipython3",
   "version": "3.7.6"
  }
 },
 "nbformat": 4,
 "nbformat_minor": 4
}
